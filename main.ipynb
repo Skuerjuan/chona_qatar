{
 "cells": [
  {
   "cell_type": "code",
   "execution_count": 1,
   "metadata": {},
   "outputs": [],
   "source": [
    "import pandas as pd"
   ]
  },
  {
   "cell_type": "code",
   "execution_count": null,
   "metadata": {},
   "outputs": [
    {
     "data": {
      "text/plain": [
       "15"
      ]
     },
     "execution_count": 17,
     "metadata": {},
     "output_type": "execute_result"
    }
   ],
   "source": [
    "file_path = \"./qatar.csv\"\n",
    "\n",
    "partidos = pd.read_csv(file_path)\n",
    "\n",
    "\n",
    "filtro_arg_local = partidos[\"1\"] == \"ARGENTINA\"\n",
    "filtro_arg_vis = partidos[\"2\"] == \"ARGENTINA\"\n",
    "\n",
    "partidos_arg_local = partidos[filtro_arg_local]\n",
    "partidos_arg_vis = partidos[filtro_arg_vis]\n",
    "\n",
    "goles_local = partidos_arg_local[\"1_goals\"].sum()\n",
    "goles_vis = partidos_arg_vis[\"2_goals\"].sum()\n",
    "goles_total = goles_local + goles_vis\n",
    "goles_total"
   ]
  }
 ],
 "metadata": {
  "kernelspec": {
   "display_name": "Python 3",
   "language": "python",
   "name": "python3"
  },
  "language_info": {
   "codemirror_mode": {
    "name": "ipython",
    "version": 3
   },
   "file_extension": ".py",
   "mimetype": "text/x-python",
   "name": "python",
   "nbconvert_exporter": "python",
   "pygments_lexer": "ipython3",
   "version": "3.13.2"
  }
 },
 "nbformat": 4,
 "nbformat_minor": 2
}
